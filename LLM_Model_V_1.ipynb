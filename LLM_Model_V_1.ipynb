{
  "nbformat": 4,
  "nbformat_minor": 0,
  "metadata": {
    "colab": {
      "provenance": [],
      "authorship_tag": "ABX9TyPTgICz43hkLUEHFR7eR68K",
      "include_colab_link": true
    },
    "kernelspec": {
      "name": "python3",
      "display_name": "Python 3"
    },
    "language_info": {
      "name": "python"
    }
  },
  "cells": [
    {
      "cell_type": "markdown",
      "metadata": {
        "id": "view-in-github",
        "colab_type": "text"
      },
      "source": [
        "<a href=\"https://colab.research.google.com/github/Vitish23/vitish/blob/main/LLM_Model_V_1.ipynb\" target=\"_parent\"><img src=\"https://colab.research.google.com/assets/colab-badge.svg\" alt=\"Open In Colab\"/></a>"
      ]
    },
    {
      "cell_type": "code",
      "execution_count": null,
      "metadata": {
        "colab": {
          "base_uri": "https://localhost:8080/"
        },
        "id": "pqBQCyMD7loQ",
        "outputId": "91655f2b-5fd8-4a86-ed35-91c6353d6200"
      },
      "outputs": [
        {
          "output_type": "stream",
          "name": "stdout",
          "text": [
            "Collecting cohere\n",
            "  Downloading cohere-4.27-py3-none-any.whl (47 kB)\n",
            "\u001b[2K     \u001b[90m━━━━━━━━━━━━━━━━━━━━━━━━━━━━━━━━━━━━━━━━\u001b[0m \u001b[32m47.6/47.6 kB\u001b[0m \u001b[31m1.5 MB/s\u001b[0m eta \u001b[36m0:00:00\u001b[0m\n",
            "\u001b[?25hRequirement already satisfied: aiohttp<4.0,>=3.0 in /usr/local/lib/python3.10/dist-packages (from cohere) (3.8.5)\n",
            "Collecting backoff<3.0,>=2.0 (from cohere)\n",
            "  Downloading backoff-2.2.1-py3-none-any.whl (15 kB)\n",
            "Collecting fastavro==1.8.2 (from cohere)\n",
            "  Downloading fastavro-1.8.2-cp310-cp310-manylinux_2_17_x86_64.manylinux2014_x86_64.whl (2.7 MB)\n",
            "\u001b[2K     \u001b[90m━━━━━━━━━━━━━━━━━━━━━━━━━━━━━━━━━━━━━━━━\u001b[0m \u001b[32m2.7/2.7 MB\u001b[0m \u001b[31m35.2 MB/s\u001b[0m eta \u001b[36m0:00:00\u001b[0m\n",
            "\u001b[?25hRequirement already satisfied: importlib_metadata<7.0,>=6.0 in /usr/local/lib/python3.10/dist-packages (from cohere) (6.8.0)\n",
            "Requirement already satisfied: requests<3.0.0,>=2.25.0 in /usr/local/lib/python3.10/dist-packages (from cohere) (2.31.0)\n",
            "Requirement already satisfied: urllib3<3,>=1.26 in /usr/local/lib/python3.10/dist-packages (from cohere) (2.0.4)\n",
            "Requirement already satisfied: attrs>=17.3.0 in /usr/local/lib/python3.10/dist-packages (from aiohttp<4.0,>=3.0->cohere) (23.1.0)\n",
            "Requirement already satisfied: charset-normalizer<4.0,>=2.0 in /usr/local/lib/python3.10/dist-packages (from aiohttp<4.0,>=3.0->cohere) (3.2.0)\n",
            "Requirement already satisfied: multidict<7.0,>=4.5 in /usr/local/lib/python3.10/dist-packages (from aiohttp<4.0,>=3.0->cohere) (6.0.4)\n",
            "Requirement already satisfied: async-timeout<5.0,>=4.0.0a3 in /usr/local/lib/python3.10/dist-packages (from aiohttp<4.0,>=3.0->cohere) (4.0.3)\n",
            "Requirement already satisfied: yarl<2.0,>=1.0 in /usr/local/lib/python3.10/dist-packages (from aiohttp<4.0,>=3.0->cohere) (1.9.2)\n",
            "Requirement already satisfied: frozenlist>=1.1.1 in /usr/local/lib/python3.10/dist-packages (from aiohttp<4.0,>=3.0->cohere) (1.4.0)\n",
            "Requirement already satisfied: aiosignal>=1.1.2 in /usr/local/lib/python3.10/dist-packages (from aiohttp<4.0,>=3.0->cohere) (1.3.1)\n",
            "Requirement already satisfied: zipp>=0.5 in /usr/local/lib/python3.10/dist-packages (from importlib_metadata<7.0,>=6.0->cohere) (3.16.2)\n",
            "Requirement already satisfied: idna<4,>=2.5 in /usr/local/lib/python3.10/dist-packages (from requests<3.0.0,>=2.25.0->cohere) (3.4)\n",
            "Requirement already satisfied: certifi>=2017.4.17 in /usr/local/lib/python3.10/dist-packages (from requests<3.0.0,>=2.25.0->cohere) (2023.7.22)\n",
            "Installing collected packages: fastavro, backoff, cohere\n",
            "Successfully installed backoff-2.2.1 cohere-4.27 fastavro-1.8.2\n"
          ]
        }
      ],
      "source": [
        "pip install cohere"
      ]
    },
    {
      "cell_type": "code",
      "source": [
        "import cohere\n",
        "import numpy as np\n",
        "import warnings\n",
        "warnings.filterwarnings('ignore')\n",
        "from annoy import AnnoyIndex\n",
        "import numpy as np\n",
        "import pandas as pd"
      ],
      "metadata": {
        "id": "GYAMz2lH7s_U"
      },
      "execution_count": null,
      "outputs": []
    },
    {
      "cell_type": "code",
      "source": [],
      "metadata": {
        "id": "wHD_WYPZ8p-p"
      },
      "execution_count": null,
      "outputs": []
    },
    {
      "cell_type": "code",
      "source": [
        "pip install annoy"
      ],
      "metadata": {
        "colab": {
          "base_uri": "https://localhost:8080/"
        },
        "id": "euKPW8jK8b2d",
        "outputId": "f4b44862-4756-4440-ccf7-e1afe3483396"
      },
      "execution_count": null,
      "outputs": [
        {
          "output_type": "stream",
          "name": "stdout",
          "text": [
            "Collecting annoy\n",
            "  Downloading annoy-1.17.3.tar.gz (647 kB)\n",
            "\u001b[?25l     \u001b[90m━━━━━━━━━━━━━━━━━━━━━━━━━━━━━━━━━━━━━━━━\u001b[0m \u001b[32m0.0/647.5 kB\u001b[0m \u001b[31m?\u001b[0m eta \u001b[36m-:--:--\u001b[0m\r\u001b[2K     \u001b[91m━━━━━━━━━━━━━━━\u001b[0m\u001b[90m╺\u001b[0m\u001b[90m━━━━━━━━━━━━━━━━━━━━━━━\u001b[0m \u001b[32m256.0/647.5 kB\u001b[0m \u001b[31m7.8 MB/s\u001b[0m eta \u001b[36m0:00:01\u001b[0m\r\u001b[2K     \u001b[90m━━━━━━━━━━━━━━━━━━━━━━━━━━━━━━━━━━━━━━\u001b[0m \u001b[32m647.5/647.5 kB\u001b[0m \u001b[31m10.0 MB/s\u001b[0m eta \u001b[36m0:00:00\u001b[0m\n",
            "\u001b[?25h  Preparing metadata (setup.py) ... \u001b[?25l\u001b[?25hdone\n",
            "Building wheels for collected packages: annoy\n",
            "  Building wheel for annoy (setup.py) ... \u001b[?25l\u001b[?25hdone\n",
            "  Created wheel for annoy: filename=annoy-1.17.3-cp310-cp310-linux_x86_64.whl size=552449 sha256=ed20369f7b2d965dbee738034fecae5f58f13ad81c91a5e26d9870ceb6fc18e6\n",
            "  Stored in directory: /root/.cache/pip/wheels/64/8a/da/f714bcf46c5efdcfcac0559e63370c21abe961c48e3992465a\n",
            "Successfully built annoy\n",
            "Installing collected packages: annoy\n",
            "Successfully installed annoy-1.17.3\n"
          ]
        }
      ]
    },
    {
      "cell_type": "markdown",
      "source": [],
      "metadata": {
        "id": "xKntc5Ee8sjc"
      }
    },
    {
      "cell_type": "code",
      "source": [
        "question = \"Tell me about South Indian Bank ?\"\n",
        "text = \"\"\"The South Indian Bank Limited (SIB) is a major private sector bank headquartered at Thrissur in Kerala, India. As on March 31st 2023, the Bank had a network of 942 banking outlets (941 Branches & 1 Service Branch) and 1304 ATMs/CRMs (1170 ATMs and 134 CRMs) spanning in 26 States and 4 Union Territories).South Indian Bank was registered in 1929 under the Companies Act.[5] It commenced business on 29 January 1929 at Round South, Thrissur.\n",
        "\n",
        "It was included in the second schedule of the Reserve Bank of India and became a scheduled Bank on 7 August 1946. SIB was the first scheduled Bank in the private sector in Kerala to get the license under Section 22 of the Banking Regulation Act, 1949 from the RBI on 17 June 1957.\n",
        "\n",
        "The Bank has won the 'UiPath Automation Excellence Awards 2021' for Best Automation under crisis for business continuity.\"\"\""
      ],
      "metadata": {
        "id": "lwltFP-m8v_g"
      },
      "execution_count": null,
      "outputs": []
    },
    {
      "cell_type": "code",
      "source": [
        "## split into a list of paragraphs\n",
        "texts = text.split('\\n\\n')\n",
        "\n",
        "## clean up to remove empty spaces and new lines\n",
        "texts = np.array([t.strip('\\n') for t in texts if t])\n",
        "\n",
        "co = cohere.Client('iddzxaFHN4geOTiM0Nl8Kk0Y4c6J637mUy9LaabU')\n",
        "\n",
        "## get the embeddings\n",
        "response = co.embed(\n",
        "    texts=texts.tolist(),\n",
        ").embeddings"
      ],
      "metadata": {
        "id": "a5Z4ApYG9zYu"
      },
      "execution_count": null,
      "outputs": []
    },
    {
      "cell_type": "code",
      "source": [
        "## chech the dimensions of the embeddings\n",
        "\n",
        "embeds = np.array(response)\n",
        "\n",
        "## create the search index, pass the size of embedding\n",
        "search_index = AnnoyIndex(embeds.shape[1],'angular')\n",
        "## Add all the vectors to the search index\n",
        "for i in range(len(embeds)):\n",
        "    search_index.add_item(i, embeds[i])\n",
        "\n",
        "search_index.build(10)  ## 10 trees\n",
        "search_index.save('test.ann')"
      ],
      "metadata": {
        "colab": {
          "base_uri": "https://localhost:8080/"
        },
        "id": "skvepIn7_Wu8",
        "outputId": "6fe9e918-a9de-4046-e600-2993e29698c3"
      },
      "execution_count": null,
      "outputs": [
        {
          "output_type": "execute_result",
          "data": {
            "text/plain": [
              "True"
            ]
          },
          "metadata": {},
          "execution_count": 8
        }
      ]
    },
    {
      "cell_type": "markdown",
      "source": [],
      "metadata": {
        "id": "y3iEbWMXDx4w"
      }
    },
    {
      "cell_type": "code",
      "source": [
        "def search_text(query):\n",
        "  ## get the query's embeddings\n",
        "  query_embed = co.embed(texts=[query]).embeddings\n",
        "\n",
        "  ## retrieve the nearest neighbours\n",
        "  similar_item_ids = search_index.get_nns_by_vector(query_embed[0],\n",
        "                                                    10,\n",
        "                                                    include_distances=True)\n",
        "\n",
        "  search_results = texts[similar_item_ids[0]]\n",
        "\n",
        "  return search_results"
      ],
      "metadata": {
        "id": "g1cVQtpMDymK"
      },
      "execution_count": null,
      "outputs": []
    },
    {
      "cell_type": "code",
      "source": [
        "results = search_text(question)\n",
        "\n",
        "print(results[0])"
      ],
      "metadata": {
        "colab": {
          "base_uri": "https://localhost:8080/"
        },
        "id": "3Q1-L3c0FLMd",
        "outputId": "d37c62ea-7fba-4182-fa1b-75e2c06b415f"
      },
      "execution_count": null,
      "outputs": [
        {
          "output_type": "stream",
          "name": "stdout",
          "text": [
            "The South Indian Bank Limited (SIB) is a major private sector bank headquartered at Thrissur in Kerala, India. As on March 31st 2023, the Bank had a network of 942 banking outlets (941 Branches & 1 Service Branch) and 1304 ATMs/CRMs (1170 ATMs and 134 CRMs) spanning in 26 States and 4 Union Territories).South Indian Bank was registered in 1929 under the Companies Act.[5] It commenced business on 29 January 1929 at Round South, Thrissur.\n"
          ]
        }
      ]
    },
    {
      "cell_type": "code",
      "source": [
        "def ask_llm(questio, num_generations=1):\n",
        "\n",
        "  ## search the text archive\n",
        "  results = search_text(question)\n",
        "\n",
        "  ## Get the top resuts\n",
        "  context = results[0]\n",
        "\n",
        "  ## prepare the prompt\n",
        "\n",
        "  prompt = f\"\"\"\n",
        "  More information about Sydney at Australia.com:\n",
        "  {context}\n",
        "   Questions:{question}\n",
        "\n",
        "   Extract the answer of the question from the provided.\n",
        "   of the text doesn't contain the answer,\n",
        "   reply thst the anser is not available.\"\"\"\n",
        "\n",
        "  Prediction = co.generate(\n",
        "      prompt=prompt,\n",
        "      max_tokens=70,\n",
        "      model=\"command-nightly\",\n",
        "      temperature=0.5,\n",
        "      num_generations=num_generations\n",
        "   )\n",
        "\n",
        "  return Prediction.generations"
      ],
      "metadata": {
        "id": "UGkbFiR9Gomq"
      },
      "execution_count": null,
      "outputs": []
    },
    {
      "cell_type": "code",
      "source": [
        "results = ask_llm(question,)\n",
        "print(results[0])"
      ],
      "metadata": {
        "colab": {
          "base_uri": "https://localhost:8080/"
        },
        "id": "E2pV6o7GI0-m",
        "outputId": "a59a0d04-7497-4f61-ecad-25538faea7f2"
      },
      "execution_count": null,
      "outputs": [
        {
          "output_type": "stream",
          "name": "stdout",
          "text": [
            " South Indian Bank is a major private sector bank headquartered in Thrissur, Kerala, India. As of March 31st, 2023, the bank had a network of 942 banking outlets.\n"
          ]
        }
      ]
    },
    {
      "cell_type": "code",
      "source": [
        "question = \"When was South Indian Started \"\n",
        "results = ask_llm(question,)\n",
        "print(results[0])"
      ],
      "metadata": {
        "colab": {
          "base_uri": "https://localhost:8080/"
        },
        "id": "qOgC-qEGJxHg",
        "outputId": "a7fde162-785f-4edf-edbf-e2f1a1482890"
      },
      "execution_count": null,
      "outputs": [
        {
          "output_type": "stream",
          "name": "stdout",
          "text": [
            " The answer is South Indian Bank was registered in 1929 under the Companies Act.\n"
          ]
        }
      ]
    },
    {
      "cell_type": "code",
      "source": [
        "question = \"why should I join South Indian Bank ?\"\n",
        "results = ask_llm(question,)\n",
        "print(results[0])"
      ],
      "metadata": {
        "colab": {
          "base_uri": "https://localhost:8080/"
        },
        "id": "e9JxDnMhKkei",
        "outputId": "3e231436-499e-4a04-9a19-eaa6be9de900"
      },
      "execution_count": null,
      "outputs": [
        {
          "output_type": "stream",
          "name": "stdout",
          "text": [
            " The answer to why you should join South Indian Bank is not available in the provided text.\n"
          ]
        }
      ]
    }
  ]
}